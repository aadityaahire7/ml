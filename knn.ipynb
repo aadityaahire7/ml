{
  "nbformat": 4,
  "nbformat_minor": 0,
  "metadata": {
    "colab": {
      "provenance": []
    },
    "kernelspec": {
      "name": "python3",
      "display_name": "Python 3"
    },
    "language_info": {
      "name": "python"
    }
  },
  "cells": [
    {
      "cell_type": "code",
      "execution_count": 1,
      "metadata": {
        "id": "imGI0l_F2d8x",
        "outputId": "e20fc4d1-fa26-47b0-a14b-6976ccdb8586",
        "colab": {
          "base_uri": "https://localhost:8080/"
        }
      },
      "outputs": [
        {
          "output_type": "stream",
          "name": "stdout",
          "text": [
            "Accuracy: 96.20%\n",
            "Classification Report:\n",
            "               precision    recall  f1-score   support\n",
            "\n",
            "           0       0.95      0.98      0.96       502\n",
            "           1       0.98      0.95      0.96       499\n",
            "\n",
            "    accuracy                           0.96      1001\n",
            "   macro avg       0.96      0.96      0.96      1001\n",
            "weighted avg       0.96      0.96      0.96      1001\n",
            "\n",
            "Confusion Matrix:\n",
            " [[491  11]\n",
            " [ 27 472]]\n"
          ]
        }
      ],
      "source": [
        "import pandas as pd\n",
        "from sklearn.model_selection import train_test_split\n",
        "from sklearn.metrics import accuracy_score, classification_report, confusion_matrix\n",
        "from sklearn.preprocessing import LabelEncoder\n",
        "from sklearn.neighbors import KNeighborsClassifier\n",
        "\n",
        "# Load the dataset\n",
        "data = pd.read_csv(\"/content/gender_classification_v7 (1).csv\")\n",
        "\n",
        "# Encode the target variable\n",
        "data['gender'] = LabelEncoder().fit_transform(data['gender'])\n",
        "\n",
        "# Separate features and target variable\n",
        "X = data.drop('gender', axis=1)\n",
        "y = data['gender']\n",
        "\n",
        "# Split the dataset into training and testing sets\n",
        "X_train, X_test, y_train, y_test = train_test_split(X, y, test_size=0.2, random_state=42)\n",
        "\n",
        "# Initialize and train the KNN model\n",
        "# n_neighbors: number of neighbors to use\n",
        "# metric: distance metric (e.g., 'minkowski')\n",
        "# p: parameter for the Minkowski metric (p=2 is equivalent to Euclidean distance)\n",
        "knn = KNeighborsClassifier(n_neighbors=5, metric='minkowski', p=2)\n",
        "knn.fit(X_train, y_train)\n",
        "\n",
        "# Make predictions on the test set\n",
        "y_pred = knn.predict(X_test)\n",
        "\n",
        "# Evaluate the model\n",
        "accuracy = accuracy_score(y_test, y_pred)\n",
        "report = classification_report(y_test, y_pred)\n",
        "conf_matrix = confusion_matrix(y_test, y_pred)\n",
        "\n",
        "print(f\"Accuracy: {accuracy * 100:.2f}%\")\n",
        "print(\"Classification Report:\\n\", report)\n",
        "print(\"Confusion Matrix:\\n\", conf_matrix)\n"
      ]
    }
  ]
}